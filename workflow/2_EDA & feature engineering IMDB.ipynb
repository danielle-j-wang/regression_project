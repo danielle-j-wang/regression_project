{
 "cells": [
  {
   "cell_type": "code",
   "execution_count": 2,
   "metadata": {},
   "outputs": [],
   "source": [
    "import warnings\n",
    "warnings.filterwarnings('ignore')"
   ]
  },
  {
   "cell_type": "code",
   "execution_count": 4,
   "metadata": {},
   "outputs": [],
   "source": [
    "import pandas as pd\n",
    "import numpy as np\n",
    "import seaborn as sns\n",
    "import pickle\n",
    "import matplotlib.pyplot as plt\n",
    "import matplotlib.ticker as ticker\n",
    "import statsmodels.api as sm\n",
    "from statsmodels.stats.outliers_influence import variance_inflation_factor\n",
    "from sklearn.model_selection import train_test_split, KFold, cross_val_score\n",
    "from sklearn.linear_model import LinearRegression, Ridge, LassoCV, RidgeCV\n",
    "from sklearn.preprocessing import StandardScaler, PolynomialFeatures\n",
    "from sklearn.metrics import r2_score, mean_squared_error\n",
    "\n",
    "%matplotlib inline"
   ]
  },
  {
   "cell_type": "markdown",
   "metadata": {},
   "source": [
    "## EDA"
   ]
  },
  {
   "cell_type": "code",
   "execution_count": 5,
   "metadata": {},
   "outputs": [
    {
     "data": {
      "text/html": [
       "<div>\n",
       "<style scoped>\n",
       "    .dataframe tbody tr th:only-of-type {\n",
       "        vertical-align: middle;\n",
       "    }\n",
       "\n",
       "    .dataframe tbody tr th {\n",
       "        vertical-align: top;\n",
       "    }\n",
       "\n",
       "    .dataframe thead th {\n",
       "        text-align: right;\n",
       "    }\n",
       "</style>\n",
       "<table border=\"1\" class=\"dataframe\">\n",
       "  <thead>\n",
       "    <tr style=\"text-align: right;\">\n",
       "      <th></th>\n",
       "      <th>title</th>\n",
       "      <th>year</th>\n",
       "      <th>genre</th>\n",
       "      <th>certificate</th>\n",
       "      <th>runtime</th>\n",
       "      <th>rating</th>\n",
       "      <th>metascore</th>\n",
       "      <th>directors</th>\n",
       "      <th>stars</th>\n",
       "      <th>votes</th>\n",
       "      <th>gross</th>\n",
       "    </tr>\n",
       "  </thead>\n",
       "  <tbody>\n",
       "    <tr>\n",
       "      <th>0</th>\n",
       "      <td>The Shawshank Redemption</td>\n",
       "      <td>1994</td>\n",
       "      <td>Drama</td>\n",
       "      <td>R</td>\n",
       "      <td>142</td>\n",
       "      <td>9.3</td>\n",
       "      <td>81</td>\n",
       "      <td>Frank Darabont</td>\n",
       "      <td>Tim Robbins, Morgan Freeman, Bob Gunton, Willi...</td>\n",
       "      <td>2557260</td>\n",
       "      <td>28.34</td>\n",
       "    </tr>\n",
       "    <tr>\n",
       "      <th>1</th>\n",
       "      <td>The Dark Knight</td>\n",
       "      <td>2008</td>\n",
       "      <td>Action, Crime, Drama</td>\n",
       "      <td>R</td>\n",
       "      <td>152</td>\n",
       "      <td>9.1</td>\n",
       "      <td>84</td>\n",
       "      <td>Christopher Nolan</td>\n",
       "      <td>Christian Bale, Heath Ledger, Aaron Eckhart, M...</td>\n",
       "      <td>2515386</td>\n",
       "      <td>534.86</td>\n",
       "    </tr>\n",
       "    <tr>\n",
       "      <th>2</th>\n",
       "      <td>Inception</td>\n",
       "      <td>2010</td>\n",
       "      <td>Action, Adventure, Sci-Fi</td>\n",
       "      <td>R</td>\n",
       "      <td>148</td>\n",
       "      <td>8.8</td>\n",
       "      <td>74</td>\n",
       "      <td>Christopher Nolan</td>\n",
       "      <td>Leonardo DiCaprio, Joseph Gordon-Levitt, Ellio...</td>\n",
       "      <td>2245839</td>\n",
       "      <td>292.58</td>\n",
       "    </tr>\n",
       "    <tr>\n",
       "      <th>3</th>\n",
       "      <td>Fight Club</td>\n",
       "      <td>1999</td>\n",
       "      <td>Drama</td>\n",
       "      <td>R</td>\n",
       "      <td>139</td>\n",
       "      <td>8.8</td>\n",
       "      <td>66</td>\n",
       "      <td>David Fincher</td>\n",
       "      <td>Brad Pitt, Edward Norton, Meat Loaf, Zach Grenier</td>\n",
       "      <td>2013290</td>\n",
       "      <td>37.03</td>\n",
       "    </tr>\n",
       "    <tr>\n",
       "      <th>4</th>\n",
       "      <td>Forrest Gump</td>\n",
       "      <td>1994</td>\n",
       "      <td>Drama, Romance</td>\n",
       "      <td>R</td>\n",
       "      <td>142</td>\n",
       "      <td>8.8</td>\n",
       "      <td>82</td>\n",
       "      <td>Robert Zemeckis</td>\n",
       "      <td>Tom Hanks, Robin Wright, Gary Sinise, Sally Field</td>\n",
       "      <td>1973564</td>\n",
       "      <td>330.25</td>\n",
       "    </tr>\n",
       "  </tbody>\n",
       "</table>\n",
       "</div>"
      ],
      "text/plain": [
       "                      title  year                      genre certificate  \\\n",
       "0  The Shawshank Redemption  1994                      Drama           R   \n",
       "1           The Dark Knight  2008       Action, Crime, Drama           R   \n",
       "2                 Inception  2010  Action, Adventure, Sci-Fi           R   \n",
       "3                Fight Club  1999                      Drama           R   \n",
       "4              Forrest Gump  1994             Drama, Romance           R   \n",
       "\n",
       "  runtime rating metascore          directors  \\\n",
       "0     142    9.3        81     Frank Darabont   \n",
       "1     152    9.1        84  Christopher Nolan   \n",
       "2     148    8.8        74  Christopher Nolan   \n",
       "3     139    8.8        66      David Fincher   \n",
       "4     142    8.8        82    Robert Zemeckis   \n",
       "\n",
       "                                               stars    votes   gross  \n",
       "0  Tim Robbins, Morgan Freeman, Bob Gunton, Willi...  2557260   28.34  \n",
       "1  Christian Bale, Heath Ledger, Aaron Eckhart, M...  2515386  534.86  \n",
       "2  Leonardo DiCaprio, Joseph Gordon-Levitt, Ellio...  2245839  292.58  \n",
       "3  Brad Pitt, Edward Norton, Meat Loaf, Zach Grenier  2013290   37.03  \n",
       "4  Tom Hanks, Robin Wright, Gary Sinise, Sally Field  1973564  330.25  "
      ]
     },
     "execution_count": 5,
     "metadata": {},
     "output_type": "execute_result"
    }
   ],
   "source": [
    "# load data\n",
    "movie_df = pd.read_pickle('movie_df.pickle')\n",
    "movie_df.head()"
   ]
  },
  {
   "cell_type": "code",
   "execution_count": 6,
   "metadata": {
    "scrolled": false
   },
   "outputs": [
    {
     "name": "stdout",
     "output_type": "stream",
     "text": [
      "<class 'pandas.core.frame.DataFrame'>\n",
      "RangeIndex: 4000 entries, 0 to 3999\n",
      "Data columns (total 11 columns):\n",
      " #   Column       Non-Null Count  Dtype \n",
      "---  ------       --------------  ----- \n",
      " 0   title        4000 non-null   object\n",
      " 1   year         4000 non-null   object\n",
      " 2   genre        4000 non-null   object\n",
      " 3   certificate  3794 non-null   object\n",
      " 4   runtime      4000 non-null   object\n",
      " 5   rating       4000 non-null   object\n",
      " 6   metascore    3810 non-null   object\n",
      " 7   directors    4000 non-null   object\n",
      " 8   stars        4000 non-null   object\n",
      " 9   votes        4000 non-null   object\n",
      " 10  gross        3648 non-null   object\n",
      "dtypes: object(11)\n",
      "memory usage: 343.9+ KB\n"
     ]
    }
   ],
   "source": [
    "movie_df.info()"
   ]
  },
  {
   "cell_type": "code",
   "execution_count": 7,
   "metadata": {},
   "outputs": [],
   "source": [
    "# title - remove rows with duplicate values\n",
    "movie_df.drop_duplicates('title', inplace = True)"
   ]
  },
  {
   "cell_type": "code",
   "execution_count": 8,
   "metadata": {},
   "outputs": [
    {
     "data": {
      "text/plain": [
       "(3923, 11)"
      ]
     },
     "execution_count": 8,
     "metadata": {},
     "output_type": "execute_result"
    }
   ],
   "source": [
    "movie_df.shape"
   ]
  },
  {
   "cell_type": "code",
   "execution_count": 9,
   "metadata": {
    "scrolled": true
   },
   "outputs": [
    {
     "name": "stdout",
     "output_type": "stream",
     "text": [
      "                                                  title  year  \\\n",
      "325                               It's a Wonderful Life  1946   \n",
      "439                        Zack Snyder's Justice League  2021   \n",
      "527                                            Bird Box  2018   \n",
      "545                                   The Suicide Squad  2021   \n",
      "552                               To Kill a Mockingbird  1962   \n",
      "...                                                 ...   ...   \n",
      "3981                                 Color Out of Space  2019   \n",
      "3985                            Dragged Across Concrete  2018   \n",
      "3987  The Guernsey Literary and Potato Peel Pie Society  2018   \n",
      "3993                                            Shutter  2004   \n",
      "3997                                           Big Stan  2007   \n",
      "\n",
      "                           genre certificate runtime rating metascore  \\\n",
      "325       Drama, Family, Fantasy       PG-13     130    8.7        89   \n",
      "439   Action, Adventure, Fantasy          PG     242    8.1        54   \n",
      "527               Horror, Sci-Fi           R     124    6.6        51   \n",
      "545    Action, Adventure, Comedy           R     132    7.2        72   \n",
      "552                 Crime, Drama           R     129    8.3        88   \n",
      "...                          ...         ...     ...    ...       ...   \n",
      "3981     Horror, Mystery, Sci-Fi       PG-13     111    6.2        70   \n",
      "3985        Action, Crime, Drama       PG-13     159    6.9        60   \n",
      "3987         Drama, Romance, War       PG-13     124    7.3        65   \n",
      "3993   Horror, Mystery, Thriller       PG-13      97    7.0      None   \n",
      "3997              Action, Comedy       PG-13     105    6.1      None   \n",
      "\n",
      "                                     directors  \\\n",
      "325                                Frank Capra   \n",
      "439                                Zack Snyder   \n",
      "527                               Susanne Bier   \n",
      "545                                 James Gunn   \n",
      "552                            Robert Mulligan   \n",
      "...                                        ...   \n",
      "3981                           Richard Stanley   \n",
      "3985                           S. Craig Zahler   \n",
      "3987                               Mike Newell   \n",
      "3993  Banjong Pisanthanakun, Parkpoom Wongpoom   \n",
      "3997                             Rob Schneider   \n",
      "\n",
      "                                                  stars   votes gross  \n",
      "325   James Stewart, Donna Reed, Lionel Barrymore, T...  441327  None  \n",
      "439     Henry Cavill, Ben Affleck, Gal Gadot, Amy Adams  364066  None  \n",
      "527   Sandra Bullock, Trevante Rhodes, John Malkovic...  320705  None  \n",
      "545   Margot Robbie, Idris Elba, John Cena, Joel Kin...  312318  None  \n",
      "552   Gregory Peck, John Megna, Frank Overton, Rosem...  309783  None  \n",
      "...                                                 ...     ...   ...  \n",
      "3981  Nicolas Cage, Joely Richardson, Madeleine Arth...   44321  None  \n",
      "3985  Mel Gibson, Vince Vaughn, Tory Kittles, Michae...   44220  None  \n",
      "3987  Jessica Brown Findlay, Tom Courtenay, Michiel ...   44194  None  \n",
      "3993  Ananda Everingham, Natthaweeranuch Thongmee, A...   44071  None  \n",
      "3997  Rob Schneider, David Carradine, Sally Kirkland...   44025  None  \n",
      "\n",
      "[590 rows x 11 columns]\n"
     ]
    }
   ],
   "source": [
    "# any na values?\n",
    "is_NaN = movie_df.isnull()\n",
    "row_has_NaN = is_NaN.any(axis = 1)\n",
    "rows_with_NaN = movie_df[row_has_NaN]\n",
    "print(rows_with_NaN)"
   ]
  },
  {
   "cell_type": "code",
   "execution_count": 10,
   "metadata": {},
   "outputs": [
    {
     "data": {
      "text/plain": [
       "Comedy, Drama, Romance          160\n",
       "Animation, Adventure, Comedy    136\n",
       "Action, Adventure, Sci-Fi       128\n",
       "Comedy                          119\n",
       "Drama                           114\n",
       "                               ... \n",
       "Animation, Biography, Crime       1\n",
       "Crime, Fantasy, Horror            1\n",
       "Drama, Horror, Romance            1\n",
       "Adventure, Horror                 1\n",
       "Adventure, Crime, Thriller        1\n",
       "Name: genre, Length: 331, dtype: int64"
      ]
     },
     "execution_count": 10,
     "metadata": {},
     "output_type": "execute_result"
    }
   ],
   "source": [
    "movie_df['genre'].value_counts().sort_values(ascending=False)"
   ]
  },
  {
   "cell_type": "code",
   "execution_count": 11,
   "metadata": {
    "scrolled": true
   },
   "outputs": [
    {
     "data": {
      "text/plain": [
       "R         1815\n",
       "PG-13     1023\n",
       "PG         839\n",
       "Passed      48\n",
       "Name: certificate, dtype: int64"
      ]
     },
     "execution_count": 11,
     "metadata": {},
     "output_type": "execute_result"
    }
   ],
   "source": [
    "movie_df['certificate'].value_counts()"
   ]
  },
  {
   "cell_type": "code",
   "execution_count": 12,
   "metadata": {},
   "outputs": [],
   "source": [
    "# gross - drop rows with missing values\n",
    "movie_df.dropna(subset = ['gross'], axis = 0, inplace = True)\n",
    "\n",
    "# certificate - drop rows with missing values & with \"Passed\"\n",
    "movie_df.dropna(subset = ['certificate'], axis = 0, inplace = True)\n",
    "movie_df = movie_df[movie_df['certificate'] != 'Passed']"
   ]
  },
  {
   "cell_type": "code",
   "execution_count": 13,
   "metadata": {},
   "outputs": [
    {
     "data": {
      "text/plain": [
       "R        1676\n",
       "PG-13     935\n",
       "PG        770\n",
       "Name: certificate, dtype: int64"
      ]
     },
     "execution_count": 13,
     "metadata": {},
     "output_type": "execute_result"
    }
   ],
   "source": [
    "movie_df['certificate'].value_counts()"
   ]
  },
  {
   "cell_type": "code",
   "execution_count": 14,
   "metadata": {
    "scrolled": false
   },
   "outputs": [
    {
     "name": "stdout",
     "output_type": "stream",
     "text": [
      "<class 'pandas.core.frame.DataFrame'>\n",
      "Int64Index: 3381 entries, 0 to 3999\n",
      "Data columns (total 11 columns):\n",
      " #   Column       Non-Null Count  Dtype \n",
      "---  ------       --------------  ----- \n",
      " 0   title        3381 non-null   object\n",
      " 1   year         3381 non-null   object\n",
      " 2   genre        3381 non-null   object\n",
      " 3   certificate  3381 non-null   object\n",
      " 4   runtime      3381 non-null   object\n",
      " 5   rating       3381 non-null   object\n",
      " 6   metascore    3293 non-null   object\n",
      " 7   directors    3381 non-null   object\n",
      " 8   stars        3381 non-null   object\n",
      " 9   votes        3381 non-null   object\n",
      " 10  gross        3381 non-null   object\n",
      "dtypes: object(11)\n",
      "memory usage: 317.0+ KB\n"
     ]
    }
   ],
   "source": [
    "movie_df.info()"
   ]
  },
  {
   "cell_type": "code",
   "execution_count": 15,
   "metadata": {
    "scrolled": true
   },
   "outputs": [],
   "source": [
    "# convert year, runtime, rating, metascore, votes, gross to int\n",
    "#movie_df.year = movie_df.year.astype('int')\n",
    "movie_df[['year', 'runtime', 'rating', 'metascore', 'votes', 'gross']] = movie_df[['year', 'runtime', 'rating', 'metascore', 'votes', 'gross']].apply(pd.to_numeric)"
   ]
  },
  {
   "cell_type": "code",
   "execution_count": 16,
   "metadata": {},
   "outputs": [],
   "source": [
    "# drop metascore feature\n",
    "#movie_df.drop(columns = ['metascore'], inplace = True)\n",
    "movie_df.dropna(subset = ['metascore'], axis = 0, inplace = True)"
   ]
  },
  {
   "cell_type": "code",
   "execution_count": 17,
   "metadata": {
    "scrolled": true
   },
   "outputs": [],
   "source": [
    "# drop stars feature\n",
    "movie_df.drop(columns = ['stars'], inplace = True)"
   ]
  },
  {
   "cell_type": "code",
   "execution_count": 18,
   "metadata": {
    "scrolled": true
   },
   "outputs": [
    {
     "name": "stdout",
     "output_type": "stream",
     "text": [
      "Empty DataFrame\n",
      "Columns: [title, year, genre, certificate, runtime, rating, metascore, directors, votes, gross]\n",
      "Index: []\n"
     ]
    }
   ],
   "source": [
    "# find na values - one final check\n",
    "is_NaN2 = movie_df.isnull()\n",
    "row_has_NaN2 = is_NaN2.any(axis = 1)\n",
    "rows_with_NaN2 = movie_df[row_has_NaN2]\n",
    "print(rows_with_NaN2)"
   ]
  },
  {
   "cell_type": "code",
   "execution_count": 19,
   "metadata": {
    "scrolled": true
   },
   "outputs": [
    {
     "data": {
      "text/html": [
       "<div>\n",
       "<style scoped>\n",
       "    .dataframe tbody tr th:only-of-type {\n",
       "        vertical-align: middle;\n",
       "    }\n",
       "\n",
       "    .dataframe tbody tr th {\n",
       "        vertical-align: top;\n",
       "    }\n",
       "\n",
       "    .dataframe thead th {\n",
       "        text-align: right;\n",
       "    }\n",
       "</style>\n",
       "<table border=\"1\" class=\"dataframe\">\n",
       "  <thead>\n",
       "    <tr style=\"text-align: right;\">\n",
       "      <th></th>\n",
       "      <th>title</th>\n",
       "      <th>year</th>\n",
       "      <th>genre</th>\n",
       "      <th>certificate</th>\n",
       "      <th>runtime</th>\n",
       "      <th>rating</th>\n",
       "      <th>metascore</th>\n",
       "      <th>directors</th>\n",
       "      <th>votes</th>\n",
       "      <th>gross</th>\n",
       "    </tr>\n",
       "  </thead>\n",
       "  <tbody>\n",
       "    <tr>\n",
       "      <th>3317</th>\n",
       "      <td>Battleship Potemkin</td>\n",
       "      <td>1925</td>\n",
       "      <td>Drama, History, Thriller</td>\n",
       "      <td>R</td>\n",
       "      <td>66</td>\n",
       "      <td>8.0</td>\n",
       "      <td>97.0</td>\n",
       "      <td>Sergei Eisenstein</td>\n",
       "      <td>56707</td>\n",
       "      <td>0.05</td>\n",
       "    </tr>\n",
       "    <tr>\n",
       "      <th>1224</th>\n",
       "      <td>Metropolis</td>\n",
       "      <td>1927</td>\n",
       "      <td>Drama, Sci-Fi</td>\n",
       "      <td>R</td>\n",
       "      <td>153</td>\n",
       "      <td>8.3</td>\n",
       "      <td>98.0</td>\n",
       "      <td>Fritz Lang</td>\n",
       "      <td>170407</td>\n",
       "      <td>1.24</td>\n",
       "    </tr>\n",
       "    <tr>\n",
       "      <th>3166</th>\n",
       "      <td>All Quiet on the Western Front</td>\n",
       "      <td>1930</td>\n",
       "      <td>Drama, War</td>\n",
       "      <td>PG</td>\n",
       "      <td>152</td>\n",
       "      <td>8.1</td>\n",
       "      <td>91.0</td>\n",
       "      <td>Lewis Milestone</td>\n",
       "      <td>60412</td>\n",
       "      <td>3.27</td>\n",
       "    </tr>\n",
       "    <tr>\n",
       "      <th>1138</th>\n",
       "      <td>City Lights</td>\n",
       "      <td>1931</td>\n",
       "      <td>Comedy, Drama, Romance</td>\n",
       "      <td>PG</td>\n",
       "      <td>87</td>\n",
       "      <td>8.5</td>\n",
       "      <td>99.0</td>\n",
       "      <td>Charles Chaplin</td>\n",
       "      <td>180317</td>\n",
       "      <td>0.02</td>\n",
       "    </tr>\n",
       "    <tr>\n",
       "      <th>2070</th>\n",
       "      <td>It Happened One Night</td>\n",
       "      <td>1934</td>\n",
       "      <td>Comedy, Romance</td>\n",
       "      <td>PG</td>\n",
       "      <td>105</td>\n",
       "      <td>8.1</td>\n",
       "      <td>87.0</td>\n",
       "      <td>Frank Capra</td>\n",
       "      <td>101379</td>\n",
       "      <td>4.36</td>\n",
       "    </tr>\n",
       "  </tbody>\n",
       "</table>\n",
       "</div>"
      ],
      "text/plain": [
       "                               title  year                     genre  \\\n",
       "3317             Battleship Potemkin  1925  Drama, History, Thriller   \n",
       "1224                      Metropolis  1927             Drama, Sci-Fi   \n",
       "3166  All Quiet on the Western Front  1930                Drama, War   \n",
       "1138                     City Lights  1931    Comedy, Drama, Romance   \n",
       "2070           It Happened One Night  1934           Comedy, Romance   \n",
       "\n",
       "     certificate  runtime  rating  metascore          directors   votes  gross  \n",
       "3317           R       66     8.0       97.0  Sergei Eisenstein   56707   0.05  \n",
       "1224           R      153     8.3       98.0         Fritz Lang  170407   1.24  \n",
       "3166          PG      152     8.1       91.0    Lewis Milestone   60412   3.27  \n",
       "1138          PG       87     8.5       99.0    Charles Chaplin  180317   0.02  \n",
       "2070          PG      105     8.1       87.0        Frank Capra  101379   4.36  "
      ]
     },
     "execution_count": 19,
     "metadata": {},
     "output_type": "execute_result"
    }
   ],
   "source": [
    "movie_df.sort_values('year').head()"
   ]
  },
  {
   "cell_type": "code",
   "execution_count": 20,
   "metadata": {
    "scrolled": true
   },
   "outputs": [
    {
     "data": {
      "text/html": [
       "<div>\n",
       "<style scoped>\n",
       "    .dataframe tbody tr th:only-of-type {\n",
       "        vertical-align: middle;\n",
       "    }\n",
       "\n",
       "    .dataframe tbody tr th {\n",
       "        vertical-align: top;\n",
       "    }\n",
       "\n",
       "    .dataframe thead th {\n",
       "        text-align: right;\n",
       "    }\n",
       "</style>\n",
       "<table border=\"1\" class=\"dataframe\">\n",
       "  <thead>\n",
       "    <tr style=\"text-align: right;\">\n",
       "      <th></th>\n",
       "      <th>title</th>\n",
       "      <th>year</th>\n",
       "      <th>genre</th>\n",
       "      <th>certificate</th>\n",
       "      <th>runtime</th>\n",
       "      <th>rating</th>\n",
       "      <th>metascore</th>\n",
       "      <th>directors</th>\n",
       "      <th>votes</th>\n",
       "      <th>gross</th>\n",
       "    </tr>\n",
       "  </thead>\n",
       "  <tbody>\n",
       "    <tr>\n",
       "      <th>1633</th>\n",
       "      <td>Dumbo</td>\n",
       "      <td>1941</td>\n",
       "      <td>Animation, Adventure, Drama</td>\n",
       "      <td>R</td>\n",
       "      <td>64</td>\n",
       "      <td>7.3</td>\n",
       "      <td>96.0</td>\n",
       "      <td>Samuel Armstrong, Norman Ferguson, Wilfred Jac...</td>\n",
       "      <td>128665</td>\n",
       "      <td>1.60</td>\n",
       "    </tr>\n",
       "    <tr>\n",
       "      <th>3317</th>\n",
       "      <td>Battleship Potemkin</td>\n",
       "      <td>1925</td>\n",
       "      <td>Drama, History, Thriller</td>\n",
       "      <td>R</td>\n",
       "      <td>66</td>\n",
       "      <td>8.0</td>\n",
       "      <td>97.0</td>\n",
       "      <td>Sergei Eisenstein</td>\n",
       "      <td>56707</td>\n",
       "      <td>0.05</td>\n",
       "    </tr>\n",
       "    <tr>\n",
       "      <th>2392</th>\n",
       "      <td>The Land Before Time</td>\n",
       "      <td>1988</td>\n",
       "      <td>Animation, Adventure, Drama</td>\n",
       "      <td>PG-13</td>\n",
       "      <td>69</td>\n",
       "      <td>7.4</td>\n",
       "      <td>66.0</td>\n",
       "      <td>Don Bluth</td>\n",
       "      <td>86415</td>\n",
       "      <td>48.09</td>\n",
       "    </tr>\n",
       "    <tr>\n",
       "      <th>2249</th>\n",
       "      <td>Following</td>\n",
       "      <td>1998</td>\n",
       "      <td>Crime, Mystery, Thriller</td>\n",
       "      <td>PG-13</td>\n",
       "      <td>69</td>\n",
       "      <td>7.5</td>\n",
       "      <td>60.0</td>\n",
       "      <td>Christopher Nolan</td>\n",
       "      <td>91757</td>\n",
       "      <td>0.05</td>\n",
       "    </tr>\n",
       "    <tr>\n",
       "      <th>1495</th>\n",
       "      <td>Bambi</td>\n",
       "      <td>1942</td>\n",
       "      <td>Animation, Adventure, Drama</td>\n",
       "      <td>R</td>\n",
       "      <td>70</td>\n",
       "      <td>7.3</td>\n",
       "      <td>91.0</td>\n",
       "      <td>James Algar, Samuel Armstrong, David Hand, Gra...</td>\n",
       "      <td>139454</td>\n",
       "      <td>102.80</td>\n",
       "    </tr>\n",
       "  </tbody>\n",
       "</table>\n",
       "</div>"
      ],
      "text/plain": [
       "                     title  year                        genre certificate  \\\n",
       "1633                 Dumbo  1941  Animation, Adventure, Drama           R   \n",
       "3317   Battleship Potemkin  1925     Drama, History, Thriller           R   \n",
       "2392  The Land Before Time  1988  Animation, Adventure, Drama       PG-13   \n",
       "2249             Following  1998     Crime, Mystery, Thriller       PG-13   \n",
       "1495                 Bambi  1942  Animation, Adventure, Drama           R   \n",
       "\n",
       "      runtime  rating  metascore  \\\n",
       "1633       64     7.3       96.0   \n",
       "3317       66     8.0       97.0   \n",
       "2392       69     7.4       66.0   \n",
       "2249       69     7.5       60.0   \n",
       "1495       70     7.3       91.0   \n",
       "\n",
       "                                              directors   votes   gross  \n",
       "1633  Samuel Armstrong, Norman Ferguson, Wilfred Jac...  128665    1.60  \n",
       "3317                                  Sergei Eisenstein   56707    0.05  \n",
       "2392                                          Don Bluth   86415   48.09  \n",
       "2249                                  Christopher Nolan   91757    0.05  \n",
       "1495  James Algar, Samuel Armstrong, David Hand, Gra...  139454  102.80  "
      ]
     },
     "execution_count": 20,
     "metadata": {},
     "output_type": "execute_result"
    }
   ],
   "source": [
    "movie_df.sort_values('runtime').head()"
   ]
  },
  {
   "cell_type": "code",
   "execution_count": 21,
   "metadata": {
    "scrolled": false
   },
   "outputs": [
    {
     "data": {
      "text/html": [
       "<div>\n",
       "<style scoped>\n",
       "    .dataframe tbody tr th:only-of-type {\n",
       "        vertical-align: middle;\n",
       "    }\n",
       "\n",
       "    .dataframe tbody tr th {\n",
       "        vertical-align: top;\n",
       "    }\n",
       "\n",
       "    .dataframe thead th {\n",
       "        text-align: right;\n",
       "    }\n",
       "</style>\n",
       "<table border=\"1\" class=\"dataframe\">\n",
       "  <thead>\n",
       "    <tr style=\"text-align: right;\">\n",
       "      <th></th>\n",
       "      <th>title</th>\n",
       "      <th>year</th>\n",
       "      <th>genre</th>\n",
       "      <th>certificate</th>\n",
       "      <th>runtime</th>\n",
       "      <th>rating</th>\n",
       "      <th>metascore</th>\n",
       "      <th>directors</th>\n",
       "      <th>votes</th>\n",
       "      <th>gross</th>\n",
       "    </tr>\n",
       "  </thead>\n",
       "  <tbody>\n",
       "    <tr>\n",
       "      <th>2649</th>\n",
       "      <td>Justin Bieber: Never Say Never</td>\n",
       "      <td>2011</td>\n",
       "      <td>Documentary, Music</td>\n",
       "      <td>R</td>\n",
       "      <td>105</td>\n",
       "      <td>1.7</td>\n",
       "      <td>52.0</td>\n",
       "      <td>Jon M. Chu</td>\n",
       "      <td>76208</td>\n",
       "      <td>73.01</td>\n",
       "    </tr>\n",
       "    <tr>\n",
       "      <th>2289</th>\n",
       "      <td>Disaster Movie</td>\n",
       "      <td>2008</td>\n",
       "      <td>Comedy, Sci-Fi</td>\n",
       "      <td>PG-13</td>\n",
       "      <td>87</td>\n",
       "      <td>1.9</td>\n",
       "      <td>15.0</td>\n",
       "      <td>Jason Friedberg, Aaron Seltzer</td>\n",
       "      <td>90556</td>\n",
       "      <td>14.19</td>\n",
       "    </tr>\n",
       "    <tr>\n",
       "      <th>3372</th>\n",
       "      <td>Son of the Mask</td>\n",
       "      <td>2005</td>\n",
       "      <td>Comedy, Family, Fantasy</td>\n",
       "      <td>PG</td>\n",
       "      <td>94</td>\n",
       "      <td>2.2</td>\n",
       "      <td>20.0</td>\n",
       "      <td>Lawrence Guterman</td>\n",
       "      <td>55563</td>\n",
       "      <td>17.02</td>\n",
       "    </tr>\n",
       "    <tr>\n",
       "      <th>2000</th>\n",
       "      <td>Epic Movie</td>\n",
       "      <td>2007</td>\n",
       "      <td>Adventure, Comedy, Fantasy</td>\n",
       "      <td>PG-13</td>\n",
       "      <td>86</td>\n",
       "      <td>2.4</td>\n",
       "      <td>17.0</td>\n",
       "      <td>Jason Friedberg, Aaron Seltzer</td>\n",
       "      <td>104820</td>\n",
       "      <td>39.74</td>\n",
       "    </tr>\n",
       "    <tr>\n",
       "      <th>3910</th>\n",
       "      <td>Alone in the Dark</td>\n",
       "      <td>2005</td>\n",
       "      <td>Action, Horror, Sci-Fi</td>\n",
       "      <td>PG</td>\n",
       "      <td>96</td>\n",
       "      <td>2.4</td>\n",
       "      <td>9.0</td>\n",
       "      <td>Uwe Boll</td>\n",
       "      <td>45370</td>\n",
       "      <td>5.18</td>\n",
       "    </tr>\n",
       "  </tbody>\n",
       "</table>\n",
       "</div>"
      ],
      "text/plain": [
       "                               title  year                       genre  \\\n",
       "2649  Justin Bieber: Never Say Never  2011          Documentary, Music   \n",
       "2289                  Disaster Movie  2008              Comedy, Sci-Fi   \n",
       "3372                 Son of the Mask  2005     Comedy, Family, Fantasy   \n",
       "2000                      Epic Movie  2007  Adventure, Comedy, Fantasy   \n",
       "3910               Alone in the Dark  2005      Action, Horror, Sci-Fi   \n",
       "\n",
       "     certificate  runtime  rating  metascore                       directors  \\\n",
       "2649           R      105     1.7       52.0                      Jon M. Chu   \n",
       "2289       PG-13       87     1.9       15.0  Jason Friedberg, Aaron Seltzer   \n",
       "3372          PG       94     2.2       20.0               Lawrence Guterman   \n",
       "2000       PG-13       86     2.4       17.0  Jason Friedberg, Aaron Seltzer   \n",
       "3910          PG       96     2.4        9.0                        Uwe Boll   \n",
       "\n",
       "       votes  gross  \n",
       "2649   76208  73.01  \n",
       "2289   90556  14.19  \n",
       "3372   55563  17.02  \n",
       "2000  104820  39.74  \n",
       "3910   45370   5.18  "
      ]
     },
     "execution_count": 21,
     "metadata": {},
     "output_type": "execute_result"
    }
   ],
   "source": [
    "movie_df.sort_values('rating').head()"
   ]
  },
  {
   "cell_type": "code",
   "execution_count": 22,
   "metadata": {},
   "outputs": [
    {
     "data": {
      "text/html": [
       "<div>\n",
       "<style scoped>\n",
       "    .dataframe tbody tr th:only-of-type {\n",
       "        vertical-align: middle;\n",
       "    }\n",
       "\n",
       "    .dataframe tbody tr th {\n",
       "        vertical-align: top;\n",
       "    }\n",
       "\n",
       "    .dataframe thead th {\n",
       "        text-align: right;\n",
       "    }\n",
       "</style>\n",
       "<table border=\"1\" class=\"dataframe\">\n",
       "  <thead>\n",
       "    <tr style=\"text-align: right;\">\n",
       "      <th></th>\n",
       "      <th>title</th>\n",
       "      <th>year</th>\n",
       "      <th>genre</th>\n",
       "      <th>certificate</th>\n",
       "      <th>runtime</th>\n",
       "      <th>rating</th>\n",
       "      <th>metascore</th>\n",
       "      <th>directors</th>\n",
       "      <th>votes</th>\n",
       "      <th>gross</th>\n",
       "    </tr>\n",
       "  </thead>\n",
       "  <tbody>\n",
       "    <tr>\n",
       "      <th>3198</th>\n",
       "      <td>Perfect Sense</td>\n",
       "      <td>2011</td>\n",
       "      <td>Drama, Romance, Sci-Fi</td>\n",
       "      <td>PG</td>\n",
       "      <td>92</td>\n",
       "      <td>7.1</td>\n",
       "      <td>55.0</td>\n",
       "      <td>David Mackenzie</td>\n",
       "      <td>59364</td>\n",
       "      <td>0.00</td>\n",
       "    </tr>\n",
       "    <tr>\n",
       "      <th>3664</th>\n",
       "      <td>Adam's Apples</td>\n",
       "      <td>2005</td>\n",
       "      <td>Comedy, Crime, Drama</td>\n",
       "      <td>PG-13</td>\n",
       "      <td>94</td>\n",
       "      <td>7.7</td>\n",
       "      <td>51.0</td>\n",
       "      <td>Anders Thomas Jensen</td>\n",
       "      <td>49737</td>\n",
       "      <td>0.00</td>\n",
       "    </tr>\n",
       "    <tr>\n",
       "      <th>3870</th>\n",
       "      <td>Ginger Snaps</td>\n",
       "      <td>2000</td>\n",
       "      <td>Drama, Fantasy, Horror</td>\n",
       "      <td>PG</td>\n",
       "      <td>108</td>\n",
       "      <td>6.8</td>\n",
       "      <td>70.0</td>\n",
       "      <td>John Fawcett</td>\n",
       "      <td>46072</td>\n",
       "      <td>0.00</td>\n",
       "    </tr>\n",
       "    <tr>\n",
       "      <th>3443</th>\n",
       "      <td>Wild Card</td>\n",
       "      <td>2015</td>\n",
       "      <td>Action, Crime, Drama</td>\n",
       "      <td>R</td>\n",
       "      <td>92</td>\n",
       "      <td>5.6</td>\n",
       "      <td>40.0</td>\n",
       "      <td>Simon West</td>\n",
       "      <td>54454</td>\n",
       "      <td>0.00</td>\n",
       "    </tr>\n",
       "    <tr>\n",
       "      <th>853</th>\n",
       "      <td>Mr. Nobody</td>\n",
       "      <td>2009</td>\n",
       "      <td>Drama, Fantasy, Romance</td>\n",
       "      <td>R</td>\n",
       "      <td>141</td>\n",
       "      <td>7.8</td>\n",
       "      <td>63.0</td>\n",
       "      <td>Jaco Van Dormael</td>\n",
       "      <td>228701</td>\n",
       "      <td>0.00</td>\n",
       "    </tr>\n",
       "    <tr>\n",
       "      <th>3583</th>\n",
       "      <td>The Condemned</td>\n",
       "      <td>2007</td>\n",
       "      <td>Action, Crime, Thriller</td>\n",
       "      <td>R</td>\n",
       "      <td>113</td>\n",
       "      <td>6.0</td>\n",
       "      <td>23.0</td>\n",
       "      <td>Scott Wiper</td>\n",
       "      <td>51678</td>\n",
       "      <td>0.00</td>\n",
       "    </tr>\n",
       "    <tr>\n",
       "      <th>3767</th>\n",
       "      <td>London Boulevard</td>\n",
       "      <td>2010</td>\n",
       "      <td>Crime, Drama</td>\n",
       "      <td>R</td>\n",
       "      <td>103</td>\n",
       "      <td>6.2</td>\n",
       "      <td>52.0</td>\n",
       "      <td>William Monahan</td>\n",
       "      <td>47814</td>\n",
       "      <td>0.01</td>\n",
       "    </tr>\n",
       "    <tr>\n",
       "      <th>1634</th>\n",
       "      <td>All About Eve</td>\n",
       "      <td>1950</td>\n",
       "      <td>Drama</td>\n",
       "      <td>R</td>\n",
       "      <td>138</td>\n",
       "      <td>8.3</td>\n",
       "      <td>98.0</td>\n",
       "      <td>Joseph L. Mankiewicz</td>\n",
       "      <td>128625</td>\n",
       "      <td>0.01</td>\n",
       "    </tr>\n",
       "    <tr>\n",
       "      <th>1233</th>\n",
       "      <td>Memories of Murder</td>\n",
       "      <td>2003</td>\n",
       "      <td>Crime, Drama, Mystery</td>\n",
       "      <td>R</td>\n",
       "      <td>132</td>\n",
       "      <td>8.1</td>\n",
       "      <td>82.0</td>\n",
       "      <td>Bong Joon Ho</td>\n",
       "      <td>169182</td>\n",
       "      <td>0.01</td>\n",
       "    </tr>\n",
       "    <tr>\n",
       "      <th>1219</th>\n",
       "      <td>Dial M for Murder</td>\n",
       "      <td>1954</td>\n",
       "      <td>Crime, Thriller</td>\n",
       "      <td>R</td>\n",
       "      <td>105</td>\n",
       "      <td>8.2</td>\n",
       "      <td>75.0</td>\n",
       "      <td>Alfred Hitchcock</td>\n",
       "      <td>171073</td>\n",
       "      <td>0.01</td>\n",
       "    </tr>\n",
       "  </tbody>\n",
       "</table>\n",
       "</div>"
      ],
      "text/plain": [
       "                   title  year                    genre certificate  runtime  \\\n",
       "3198       Perfect Sense  2011   Drama, Romance, Sci-Fi          PG       92   \n",
       "3664       Adam's Apples  2005     Comedy, Crime, Drama       PG-13       94   \n",
       "3870        Ginger Snaps  2000   Drama, Fantasy, Horror          PG      108   \n",
       "3443           Wild Card  2015     Action, Crime, Drama           R       92   \n",
       "853           Mr. Nobody  2009  Drama, Fantasy, Romance           R      141   \n",
       "3583       The Condemned  2007  Action, Crime, Thriller           R      113   \n",
       "3767    London Boulevard  2010             Crime, Drama           R      103   \n",
       "1634       All About Eve  1950                    Drama           R      138   \n",
       "1233  Memories of Murder  2003    Crime, Drama, Mystery           R      132   \n",
       "1219   Dial M for Murder  1954          Crime, Thriller           R      105   \n",
       "\n",
       "      rating  metascore             directors   votes  gross  \n",
       "3198     7.1       55.0       David Mackenzie   59364   0.00  \n",
       "3664     7.7       51.0  Anders Thomas Jensen   49737   0.00  \n",
       "3870     6.8       70.0          John Fawcett   46072   0.00  \n",
       "3443     5.6       40.0            Simon West   54454   0.00  \n",
       "853      7.8       63.0      Jaco Van Dormael  228701   0.00  \n",
       "3583     6.0       23.0           Scott Wiper   51678   0.00  \n",
       "3767     6.2       52.0       William Monahan   47814   0.01  \n",
       "1634     8.3       98.0  Joseph L. Mankiewicz  128625   0.01  \n",
       "1233     8.1       82.0          Bong Joon Ho  169182   0.01  \n",
       "1219     8.2       75.0      Alfred Hitchcock  171073   0.01  "
      ]
     },
     "execution_count": 22,
     "metadata": {},
     "output_type": "execute_result"
    }
   ],
   "source": [
    "movie_df.sort_values('gross').head(10)"
   ]
  },
  {
   "cell_type": "code",
   "execution_count": 23,
   "metadata": {
    "scrolled": true
   },
   "outputs": [
    {
     "data": {
      "text/html": [
       "<div>\n",
       "<style scoped>\n",
       "    .dataframe tbody tr th:only-of-type {\n",
       "        vertical-align: middle;\n",
       "    }\n",
       "\n",
       "    .dataframe tbody tr th {\n",
       "        vertical-align: top;\n",
       "    }\n",
       "\n",
       "    .dataframe thead th {\n",
       "        text-align: right;\n",
       "    }\n",
       "</style>\n",
       "<table border=\"1\" class=\"dataframe\">\n",
       "  <thead>\n",
       "    <tr style=\"text-align: right;\">\n",
       "      <th></th>\n",
       "      <th>year</th>\n",
       "      <th>runtime</th>\n",
       "      <th>rating</th>\n",
       "      <th>metascore</th>\n",
       "      <th>votes</th>\n",
       "      <th>gross</th>\n",
       "    </tr>\n",
       "  </thead>\n",
       "  <tbody>\n",
       "    <tr>\n",
       "      <th>count</th>\n",
       "      <td>3293.000000</td>\n",
       "      <td>3293.000000</td>\n",
       "      <td>3293.000000</td>\n",
       "      <td>3293.000000</td>\n",
       "      <td>3.293000e+03</td>\n",
       "      <td>3293.000000</td>\n",
       "    </tr>\n",
       "    <tr>\n",
       "      <th>mean</th>\n",
       "      <td>2002.893410</td>\n",
       "      <td>112.349226</td>\n",
       "      <td>6.831886</td>\n",
       "      <td>59.913756</td>\n",
       "      <td>1.991221e+05</td>\n",
       "      <td>68.107358</td>\n",
       "    </tr>\n",
       "    <tr>\n",
       "      <th>std</th>\n",
       "      <td>13.571417</td>\n",
       "      <td>20.414704</td>\n",
       "      <td>0.897718</td>\n",
       "      <td>17.858390</td>\n",
       "      <td>2.289917e+05</td>\n",
       "      <td>82.961881</td>\n",
       "    </tr>\n",
       "    <tr>\n",
       "      <th>min</th>\n",
       "      <td>1925.000000</td>\n",
       "      <td>64.000000</td>\n",
       "      <td>1.700000</td>\n",
       "      <td>9.000000</td>\n",
       "      <td>4.400200e+04</td>\n",
       "      <td>0.000000</td>\n",
       "    </tr>\n",
       "    <tr>\n",
       "      <th>25%</th>\n",
       "      <td>1998.000000</td>\n",
       "      <td>98.000000</td>\n",
       "      <td>6.300000</td>\n",
       "      <td>47.000000</td>\n",
       "      <td>7.211300e+04</td>\n",
       "      <td>16.290000</td>\n",
       "    </tr>\n",
       "    <tr>\n",
       "      <th>50%</th>\n",
       "      <td>2006.000000</td>\n",
       "      <td>109.000000</td>\n",
       "      <td>6.900000</td>\n",
       "      <td>60.000000</td>\n",
       "      <td>1.175590e+05</td>\n",
       "      <td>43.000000</td>\n",
       "    </tr>\n",
       "    <tr>\n",
       "      <th>75%</th>\n",
       "      <td>2012.000000</td>\n",
       "      <td>123.000000</td>\n",
       "      <td>7.500000</td>\n",
       "      <td>73.000000</td>\n",
       "      <td>2.322080e+05</td>\n",
       "      <td>87.340000</td>\n",
       "    </tr>\n",
       "    <tr>\n",
       "      <th>max</th>\n",
       "      <td>2021.000000</td>\n",
       "      <td>238.000000</td>\n",
       "      <td>9.300000</td>\n",
       "      <td>100.000000</td>\n",
       "      <td>2.557260e+06</td>\n",
       "      <td>936.660000</td>\n",
       "    </tr>\n",
       "  </tbody>\n",
       "</table>\n",
       "</div>"
      ],
      "text/plain": [
       "              year      runtime       rating    metascore         votes  \\\n",
       "count  3293.000000  3293.000000  3293.000000  3293.000000  3.293000e+03   \n",
       "mean   2002.893410   112.349226     6.831886    59.913756  1.991221e+05   \n",
       "std      13.571417    20.414704     0.897718    17.858390  2.289917e+05   \n",
       "min    1925.000000    64.000000     1.700000     9.000000  4.400200e+04   \n",
       "25%    1998.000000    98.000000     6.300000    47.000000  7.211300e+04   \n",
       "50%    2006.000000   109.000000     6.900000    60.000000  1.175590e+05   \n",
       "75%    2012.000000   123.000000     7.500000    73.000000  2.322080e+05   \n",
       "max    2021.000000   238.000000     9.300000   100.000000  2.557260e+06   \n",
       "\n",
       "             gross  \n",
       "count  3293.000000  \n",
       "mean     68.107358  \n",
       "std      82.961881  \n",
       "min       0.000000  \n",
       "25%      16.290000  \n",
       "50%      43.000000  \n",
       "75%      87.340000  \n",
       "max     936.660000  "
      ]
     },
     "execution_count": 23,
     "metadata": {},
     "output_type": "execute_result"
    }
   ],
   "source": [
    "movie_df.describe()"
   ]
  },
  {
   "cell_type": "code",
   "execution_count": 24,
   "metadata": {},
   "outputs": [],
   "source": [
    "movie_df.sort_values('rating', inplace=True)"
   ]
  },
  {
   "cell_type": "markdown",
   "metadata": {},
   "source": [
    "### Visualization"
   ]
  },
  {
   "cell_type": "code",
   "execution_count": 25,
   "metadata": {
    "scrolled": false
   },
   "outputs": [
    {
     "data": {
      "image/png": "[encoded data removed]",
      "text/plain": [
       "<Figure size 432x288 with 2 Axes>"
      ]
     },
     "metadata": {
      "needs_background": "light"
     },
     "output_type": "display_data"
    }
   ],
   "source": [
    "ax = sns.heatmap(movie_df.corr(), cmap = 'YlGnBu', annot = True)\n",
    "#bottom, top = ax.get_ylim()\n",
    "#ax.set_ylim(bottom + 0.5, top - 0.5)\n",
    "plt.savefig('movie_df_heatmap.png')"
   ]
  },
  {
   "cell_type": "code",
   "execution_count": 26,
   "metadata": {
    "scrolled": true
   },
   "outputs": [
    {
     "data": {
      "image/png": "[encoded data removed]",
      "text/plain": [
       "<Figure size 648x518.4 with 42 Axes>"
      ]
     },
     "metadata": {
      "needs_background": "light"
     },
     "output_type": "display_data"
    }
   ],
   "source": [
    "sns.pairplot(movie_df, height=1.2, aspect=1.25)\n",
    "plt.savefig('movie_df pairplot.png')"
   ]
  },
  {
   "cell_type": "code",
   "execution_count": 27,
   "metadata": {},
   "outputs": [
    {
     "data": {
      "image/png": "[encoded data removed]",
      "text/plain": [
       "<Figure size 576x288 with 1 Axes>"
      ]
     },
     "metadata": {
      "needs_background": "light"
     },
     "output_type": "display_data"
    }
   ],
   "source": [
    "plt.figure(figsize = (8, 4))\n",
    "ax = sns.distplot(movie_df['rating'], bins = 10, kde_kws = {'bw': 0.25}, \n",
    "                  axlabel = 'IMDB Movie Ratings')\n",
    "ax.set(xlim = (0, 10))\n",
    "ax.set_title('Distribution of IMDB Movie Ratings')\n",
    "plt.savefig('Distribution of IMDB Movie Ratings.png')"
   ]
  },
  {
   "cell_type": "code",
   "execution_count": 28,
   "metadata": {},
   "outputs": [
    {
     "data": {
      "text/plain": [
       "rating       1.000000\n",
       "metascore    0.744095\n",
       "votes        0.455749\n",
       "runtime      0.361662\n",
       "gross        0.087322\n",
       "year        -0.261937\n",
       "Name: rating, dtype: float64"
      ]
     },
     "execution_count": 28,
     "metadata": {},
     "output_type": "execute_result"
    }
   ],
   "source": [
    "# get the correlations withh rating\n",
    "movie_df.corr()['rating'].sort_values(ascending = False)"
   ]
  },
  {
   "cell_type": "code",
   "execution_count": 29,
   "metadata": {
    "scrolled": true
   },
   "outputs": [
    {
     "data": {
      "image/png": "[encoded data removed]",
      "text/plain": [
       "<Figure size 576x288 with 1 Axes>"
      ]
     },
     "metadata": {
      "needs_background": "light"
     },
     "output_type": "display_data"
    }
   ],
   "source": [
    "# certificate\n",
    "plt.subplots(figsize = (8,4))\n",
    "cert_counts = movie_df['certificate'].value_counts()\n",
    "cert_counts = cert_counts[:10]\n",
    "ax = sns.barplot(cert_counts.index, cert_counts.values, color = (0.2, 0.4, 0.6),\n",
    "                 edgecolor = (0, 0, 0), linewidth = 1.5)\n",
    "ax.set_ylabel('Certificate Counts', fontsize = 20);\n",
    "ax.set_title('Distribution of Certificates')\n",
    "ax.set_xticklabels(cert_counts.index, rotation = 45);\n",
    "\n",
    "plt.savefig('Cert', bbox_inches = 'tight')"
   ]
  },
  {
   "cell_type": "code",
   "execution_count": 30,
   "metadata": {},
   "outputs": [
    {
     "data": {
      "image/png": "[encoded data removed]",
      "text/plain": [
       "<Figure size 576x288 with 1 Axes>"
      ]
     },
     "metadata": {
      "needs_background": "light"
     },
     "output_type": "display_data"
    }
   ],
   "source": [
    "plt.figure(figsize=(8,4))\n",
    "sns.set_context(\"notebook\", font_scale=1.5, rc={\"lines.linewidth\": 2.5})\n",
    "sns.boxplot(x=\"certificate\", y=\"rating\", data=movie_df)\n",
    "plt.xticks(rotation=45);"
   ]
  },
  {
   "cell_type": "markdown",
   "metadata": {},
   "source": [
    "check for multicollinearity"
   ]
  },
  {
   "cell_type": "code",
   "execution_count": 31,
   "metadata": {
    "scrolled": true
   },
   "outputs": [
    {
     "name": "stdout",
     "output_type": "stream",
     "text": [
      "year         37.586668\n",
      "runtime      35.957950\n",
      "metascore    13.861591\n",
      "votes         2.850232\n",
      "gross         2.405998\n",
      "dtype: float64\n"
     ]
    }
   ],
   "source": [
    "df_m = movie_df[['year', 'runtime', 'metascore','votes', 'gross']]\n",
    "vif_data = [variance_inflation_factor(df_m.values, i) for i in range(df_m.shape[1])]\n",
    "print(pd.Series(vif_data, index = df_m.columns))"
   ]
  },
  {
   "cell_type": "code",
   "execution_count": 32,
   "metadata": {
    "scrolled": true
   },
   "outputs": [
    {
     "name": "stdout",
     "output_type": "stream",
     "text": [
      "runtime      12.242931\n",
      "metascore    11.843376\n",
      "votes         2.673908\n",
      "gross         2.385208\n",
      "dtype: float64\n"
     ]
    }
   ],
   "source": [
    "df_m2 = movie_df[['runtime', 'metascore', 'votes', 'gross']] #dropping year\n",
    "vif_data2 = [variance_inflation_factor(df_m2.values, i) for i in range(df_m2.shape[1])]\n",
    "print(pd.Series(vif_data2, index = df_m2.columns))"
   ]
  },
  {
   "cell_type": "code",
   "execution_count": 46,
   "metadata": {},
   "outputs": [],
   "source": [
    "# make a copy of the movid_df before doing feature engineering\n",
    "moviedf_copy = movie_df.copy()\n",
    "moviedf_copy.set_index('title',inplace=True)"
   ]
  },
  {
   "cell_type": "markdown",
   "metadata": {},
   "source": [
    "### Feature Engineering"
   ]
  },
  {
   "cell_type": "markdown",
   "metadata": {},
   "source": [
    "yrs since release using the year feature"
   ]
  },
  {
   "cell_type": "code",
   "execution_count": 47,
   "metadata": {},
   "outputs": [],
   "source": [
    "this_year = 2021\n",
    "moviedf_copy['yrs_since_release'] = moviedf_copy['year'].apply(lambda x: this_year - x)"
   ]
  },
  {
   "cell_type": "code",
   "execution_count": 48,
   "metadata": {},
   "outputs": [],
   "source": [
    "moviedf_copy.drop(['year'], inplace=True, axis=1)"
   ]
  },
  {
   "cell_type": "code",
   "execution_count": 49,
   "metadata": {
    "scrolled": true
   },
   "outputs": [
    {
     "data": {
      "text/html": [
       "<div>\n",
       "<style scoped>\n",
       "    .dataframe tbody tr th:only-of-type {\n",
       "        vertical-align: middle;\n",
       "    }\n",
       "\n",
       "    .dataframe tbody tr th {\n",
       "        vertical-align: top;\n",
       "    }\n",
       "\n",
       "    .dataframe thead th {\n",
       "        text-align: right;\n",
       "    }\n",
       "</style>\n",
       "<table border=\"1\" class=\"dataframe\">\n",
       "  <thead>\n",
       "    <tr style=\"text-align: right;\">\n",
       "      <th></th>\n",
       "      <th>genre</th>\n",
       "      <th>certificate</th>\n",
       "      <th>runtime</th>\n",
       "      <th>rating</th>\n",
       "      <th>metascore</th>\n",
       "      <th>directors</th>\n",
       "      <th>votes</th>\n",
       "      <th>gross</th>\n",
       "      <th>yrs_since_release</th>\n",
       "    </tr>\n",
       "    <tr>\n",
       "      <th>title</th>\n",
       "      <th></th>\n",
       "      <th></th>\n",
       "      <th></th>\n",
       "      <th></th>\n",
       "      <th></th>\n",
       "      <th></th>\n",
       "      <th></th>\n",
       "      <th></th>\n",
       "      <th></th>\n",
       "    </tr>\n",
       "  </thead>\n",
       "  <tbody>\n",
       "    <tr>\n",
       "      <th>Justin Bieber: Never Say Never</th>\n",
       "      <td>Documentary, Music</td>\n",
       "      <td>R</td>\n",
       "      <td>105</td>\n",
       "      <td>1.7</td>\n",
       "      <td>52.0</td>\n",
       "      <td>Jon M. Chu</td>\n",
       "      <td>76208</td>\n",
       "      <td>73.01</td>\n",
       "      <td>10</td>\n",
       "    </tr>\n",
       "    <tr>\n",
       "      <th>Disaster Movie</th>\n",
       "      <td>Comedy, Sci-Fi</td>\n",
       "      <td>PG-13</td>\n",
       "      <td>87</td>\n",
       "      <td>1.9</td>\n",
       "      <td>15.0</td>\n",
       "      <td>Jason Friedberg, Aaron Seltzer</td>\n",
       "      <td>90556</td>\n",
       "      <td>14.19</td>\n",
       "      <td>13</td>\n",
       "    </tr>\n",
       "    <tr>\n",
       "      <th>Son of the Mask</th>\n",
       "      <td>Comedy, Family, Fantasy</td>\n",
       "      <td>PG</td>\n",
       "      <td>94</td>\n",
       "      <td>2.2</td>\n",
       "      <td>20.0</td>\n",
       "      <td>Lawrence Guterman</td>\n",
       "      <td>55563</td>\n",
       "      <td>17.02</td>\n",
       "      <td>16</td>\n",
       "    </tr>\n",
       "    <tr>\n",
       "      <th>Epic Movie</th>\n",
       "      <td>Adventure, Comedy, Fantasy</td>\n",
       "      <td>PG-13</td>\n",
       "      <td>86</td>\n",
       "      <td>2.4</td>\n",
       "      <td>17.0</td>\n",
       "      <td>Jason Friedberg, Aaron Seltzer</td>\n",
       "      <td>104820</td>\n",
       "      <td>39.74</td>\n",
       "      <td>14</td>\n",
       "    </tr>\n",
       "    <tr>\n",
       "      <th>Alone in the Dark</th>\n",
       "      <td>Action, Horror, Sci-Fi</td>\n",
       "      <td>PG</td>\n",
       "      <td>96</td>\n",
       "      <td>2.4</td>\n",
       "      <td>9.0</td>\n",
       "      <td>Uwe Boll</td>\n",
       "      <td>45370</td>\n",
       "      <td>5.18</td>\n",
       "      <td>16</td>\n",
       "    </tr>\n",
       "  </tbody>\n",
       "</table>\n",
       "</div>"
      ],
      "text/plain": [
       "                                                     genre certificate  \\\n",
       "title                                                                    \n",
       "Justin Bieber: Never Say Never          Documentary, Music           R   \n",
       "Disaster Movie                              Comedy, Sci-Fi       PG-13   \n",
       "Son of the Mask                    Comedy, Family, Fantasy          PG   \n",
       "Epic Movie                      Adventure, Comedy, Fantasy       PG-13   \n",
       "Alone in the Dark                   Action, Horror, Sci-Fi          PG   \n",
       "\n",
       "                                runtime  rating  metascore  \\\n",
       "title                                                        \n",
       "Justin Bieber: Never Say Never      105     1.7       52.0   \n",
       "Disaster Movie                       87     1.9       15.0   \n",
       "Son of the Mask                      94     2.2       20.0   \n",
       "Epic Movie                           86     2.4       17.0   \n",
       "Alone in the Dark                    96     2.4        9.0   \n",
       "\n",
       "                                                     directors   votes  gross  \\\n",
       "title                                                                           \n",
       "Justin Bieber: Never Say Never                      Jon M. Chu   76208  73.01   \n",
       "Disaster Movie                  Jason Friedberg, Aaron Seltzer   90556  14.19   \n",
       "Son of the Mask                              Lawrence Guterman   55563  17.02   \n",
       "Epic Movie                      Jason Friedberg, Aaron Seltzer  104820  39.74   \n",
       "Alone in the Dark                                     Uwe Boll   45370   5.18   \n",
       "\n",
       "                                yrs_since_release  \n",
       "title                                              \n",
       "Justin Bieber: Never Say Never                 10  \n",
       "Disaster Movie                                 13  \n",
       "Son of the Mask                                16  \n",
       "Epic Movie                                     14  \n",
       "Alone in the Dark                              16  "
      ]
     },
     "execution_count": 49,
     "metadata": {},
     "output_type": "execute_result"
    }
   ],
   "source": [
    "moviedf_copy.head()"
   ]
  },
  {
   "cell_type": "code",
   "execution_count": 50,
   "metadata": {},
   "outputs": [],
   "source": [
    "# create dummy variables for certificate\n",
    "moviedf_copy = pd.get_dummies(moviedf_copy, columns=['certificate'], drop_first=True)"
   ]
  },
  {
   "cell_type": "code",
   "execution_count": 52,
   "metadata": {},
   "outputs": [],
   "source": [
    "# create dummy variables for genere\n",
    "genre_dummies = moviedf_copy['genre'].str.get_dummies(sep=', ')\n",
    "moviedf_copy = pd.concat([moviedf_copy, genre_dummies], axis = 1)"
   ]
  },
  {
   "cell_type": "code",
   "execution_count": 53,
   "metadata": {},
   "outputs": [],
   "source": [
    "# create dummy variables for directors \n",
    "dir_20 = moviedf_copy['directors'].value_counts()[:20].index.tolist()\n",
    "director_dummies = pd.get_dummies(moviedf_copy['directors'], drop_first=True)\n",
    "moviedf_copy = pd.concat([moviedf_copy, director_dummies[dir_20]], axis=1)"
   ]
  },
  {
   "cell_type": "code",
   "execution_count": 54,
   "metadata": {},
   "outputs": [
    {
     "data": {
      "text/plain": [
       "Index(['genre', 'runtime', 'rating', 'metascore', 'directors', 'votes',\n",
       "       'gross', 'yrs_since_release', 'certificate_PG-13', 'certificate_R',\n",
       "       'Action', 'Adventure', 'Animation', 'Biography', 'Comedy', 'Crime',\n",
       "       'Documentary', 'Drama', 'Family', 'Fantasy', 'Film-Noir', 'History',\n",
       "       'Horror', 'Music', 'Musical', 'Mystery', 'News', 'Romance', 'Sci-Fi',\n",
       "       'Sport', 'Thriller', 'War', 'Western', 'Steven Spielberg',\n",
       "       'Clint Eastwood', 'Martin Scorsese', 'Ron Howard', 'Ridley Scott',\n",
       "       'Woody Allen', 'Tim Burton', 'Robert Zemeckis', 'Tony Scott',\n",
       "       'Alfred Hitchcock', 'Oliver Stone', 'Michael Bay', 'Steven Soderbergh',\n",
       "       'Richard Donner', 'John Carpenter', 'M. Night Shyamalan', 'Sam Raimi',\n",
       "       'Joel Schumacher', 'Christopher Nolan', 'Shawn Levy'],\n",
       "      dtype='object')"
      ]
     },
     "execution_count": 54,
     "metadata": {},
     "output_type": "execute_result"
    }
   ],
   "source": [
    "moviedf_copy.columns"
   ]
  },
  {
   "cell_type": "code",
   "execution_count": 55,
   "metadata": {},
   "outputs": [],
   "source": [
    "# drop genre and directors columns \n",
    "moviedf_copy.drop(['genre', 'directors'], inplace = True, axis = 1)"
   ]
  },
  {
   "cell_type": "code",
   "execution_count": 63,
   "metadata": {},
   "outputs": [
    {
     "data": {
      "text/plain": [
       "Index(['runtime', 'rating', 'votes', 'gross', 'yrs_since_release',\n",
       "       'certificate_PG-13', 'certificate_R', 'Action', 'Adventure',\n",
       "       'Animation', 'Biography', 'Comedy', 'Crime', 'Documentary', 'Drama',\n",
       "       'Family', 'Fantasy', 'Film-Noir', 'History', 'Horror', 'Music',\n",
       "       'Musical', 'Mystery', 'News', 'Romance', 'Sci-Fi', 'Sport', 'Thriller',\n",
       "       'War', 'Western', 'Steven Spielberg', 'Clint Eastwood',\n",
       "       'Martin Scorsese', 'Ron Howard', 'Ridley Scott', 'Woody Allen',\n",
       "       'Tim Burton', 'Robert Zemeckis', 'Tony Scott', 'Alfred Hitchcock',\n",
       "       'Oliver Stone', 'Michael Bay', 'Steven Soderbergh', 'Richard Donner',\n",
       "       'John Carpenter', 'M. Night Shyamalan', 'Sam Raimi', 'Joel Schumacher',\n",
       "       'Christopher Nolan', 'Shawn Levy'],\n",
       "      dtype='object')"
      ]
     },
     "execution_count": 63,
     "metadata": {},
     "output_type": "execute_result"
    }
   ],
   "source": [
    "moviedf_copy.columns"
   ]
  },
  {
   "cell_type": "code",
   "execution_count": 61,
   "metadata": {},
   "outputs": [],
   "source": [
    "# drop metascore - it is another rating which won't help the model\n",
    "moviedf_copy.drop(['metascore'], inplace = True, axis = 1)"
   ]
  },
  {
   "cell_type": "code",
   "execution_count": 62,
   "metadata": {},
   "outputs": [
    {
     "data": {
      "text/plain": [
       "rating               1.000000\n",
       "votes                0.455749\n",
       "runtime              0.361662\n",
       "Drama                0.356290\n",
       "yrs_since_release    0.261937\n",
       "Biography            0.171365\n",
       "War                  0.108128\n",
       "History              0.103403\n",
       "Christopher Nolan    0.088242\n",
       "gross                0.087322\n",
       "Animation            0.078721\n",
       "Martin Scorsese      0.076359\n",
       "Alfred Hitchcock     0.075677\n",
       "Steven Spielberg     0.071142\n",
       "Film-Noir            0.066833\n",
       "Western              0.060816\n",
       "Documentary          0.059383\n",
       "Musical              0.045455\n",
       "Clint Eastwood       0.044432\n",
       "Crime                0.044144\n",
       "Robert Zemeckis      0.038875\n",
       "Woody Allen          0.029543\n",
       "Music                0.028433\n",
       "Ridley Scott         0.024542\n",
       "Sport                0.024076\n",
       "certificate_R        0.020478\n",
       "News                 0.018798\n",
       "Tim Burton           0.016325\n",
       "Sam Raimi            0.010257\n",
       "Oliver Stone         0.009094\n",
       "Name: rating, dtype: float64"
      ]
     },
     "execution_count": 62,
     "metadata": {},
     "output_type": "execute_result"
    }
   ],
   "source": [
    "# quick correlation check\n",
    "moviedf_copy.corr()['rating'].sort_values(ascending = False)[:30]"
   ]
  },
  {
   "cell_type": "code",
   "execution_count": 64,
   "metadata": {},
   "outputs": [],
   "source": [
    "moviedf_copy.to_csv('movie_dfr.csv', header = True, index = False)"
   ]
  },
  {
   "cell_type": "code",
   "execution_count": null,
   "metadata": {},
   "outputs": [],
   "source": []
  }
 ],
 "metadata": {
  "kernelspec": {
   "display_name": "Python 3 (ipykernel)",
   "language": "python",
   "name": "python3"
  },
  "language_info": {
   "codemirror_mode": {
    "name": "ipython",
    "version": 3
   },
   "file_extension": ".py",
   "mimetype": "text/x-python",
   "name": "python",
   "nbconvert_exporter": "python",
   "pygments_lexer": "ipython3",
   "version": "3.9.7"
  }
 },
 "nbformat": 4,
 "nbformat_minor": 2
}
